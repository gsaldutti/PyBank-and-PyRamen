{
 "cells": [
  {
   "cell_type": "code",
   "execution_count": 1,
   "metadata": {},
   "outputs": [],
   "source": [
    "\"\"\"\n",
    "Carlos Gattorno: Automate Your Day Job with Python .\n",
    "\n",
    "This script demonstrates how to perform basic financial analysis of the company PyBank profits/losses \n",
    "over the course of several years.\n",
    "\"\"\"\n",
    "\n",
    "# Initialize the metric variables\n",
    "count_date = 0\n",
    "total = 0\n",
    "average = 0\n",
    "minimum = 0\n",
    "maximum = 0"
   ]
  },
  {
   "cell_type": "code",
   "execution_count": 2,
   "metadata": {},
   "outputs": [],
   "source": [
    "# List of statements profits/losses\n",
    "statement_pnl = [ 867884, 984655, 322013, -69417, 310503, 522857, 1033096, 604885, -216386, 477532, 893810, -80353, 779806, \n",
    "                 -335203, 697845, 793163, 485070, 584122, 62729, 668179, 899906, 834719, 132003, 309978, -755566, 1170593, \n",
    "                 252788, 1151518, 817256, 570757, 506702, -1022534, 475062, 779976, 144175, 542494, 359333, 321469, 67780, \n",
    "                 471435, 565603, 872480, 789480, 999942, -1196225, 268997, -687986, 1150461, 682458, 617856, 824098, 581943, \n",
    "                 132864, 448062, 689161, 800701, 1166643, 947333, 578668, 988505, 1139715, 1029471, 687533, -524626, 158620, \n",
    "                 87795, 423389, 840723, 568529, 332067, 989499, 778237, 650000, -1100387, -174946, 757143, 445709, 712961, \n",
    "                 -1163797, 569899, 768450, 102685, 795914, 60988, 138230, 671099]"
   ]
  },
  {
   "cell_type": "code",
   "execution_count": 3,
   "metadata": {},
   "outputs": [],
   "source": [
    "# Iterate over each element of the list\n",
    "for month_pnl in statement_pnl:\n",
    "     # Cumulatively sum up the total profits/losses and count of month statements\n",
    "    total += month_pnl\n",
    "    count_date += 1\n",
    "\n",
    "    # Logic to determine minimum and maximum values\n",
    "    if minimum == 0:\n",
    "        minimum = month_pnl\n",
    "    elif month_pnl < minimum:\n",
    "        minimum = month_pnl\n",
    "    elif month_pnl > maximum:\n",
    "        maximum = month_pnl"
   ]
  },
  {
   "cell_type": "code",
   "execution_count": 4,
   "metadata": {},
   "outputs": [],
   "source": [
    "# Calculate the average\n",
    "average = round(total / count_date, 2)"
   ]
  },
  {
   "cell_type": "code",
   "execution_count": 5,
   "metadata": {},
   "outputs": [
    {
     "name": "stdout",
     "output_type": "stream",
     "text": [
      "Financial Analysis\n",
      "-------------------\n",
      "Total Months: 86\n",
      "Total Profits/Losses: 38382578\n",
      "Monthly Average: 446309.05\n",
      "Greatest Gain: 1170593\n",
      "Mayor Loss: -1196225\n"
     ]
    }
   ],
   "source": [
    "# Print out the financial analysis\n",
    "print(\"Financial Analysis\")\n",
    "print(\"-------------------\")\n",
    "print(f\"Total Months: {count_date}\")\n",
    "print(f\"Total Profits/Losses: {total}\")\n",
    "print(f\"Monthly Average: {average}\")\n",
    "print(f\"Greatest Gain: {maximum}\")\n",
    "print(f\"Mayor Loss: {minimum}\")"
   ]
  },
  {
   "cell_type": "code",
   "execution_count": null,
   "metadata": {},
   "outputs": [],
   "source": []
  }
 ],
 "metadata": {
  "kernelspec": {
   "display_name": "Python 3",
   "language": "python",
   "name": "python3"
  },
  "language_info": {
   "codemirror_mode": {
    "name": "ipython",
    "version": 3
   },
   "file_extension": ".py",
   "mimetype": "text/x-python",
   "name": "python",
   "nbconvert_exporter": "python",
   "pygments_lexer": "ipython3",
   "version": "3.8.3"
  }
 },
 "nbformat": 4,
 "nbformat_minor": 4
}
